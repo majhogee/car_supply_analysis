{
 "cells": [
  {
   "cell_type": "markdown",
   "metadata": {},
   "source": [
    "### Import useful libraries"
   ]
  },
  {
   "cell_type": "code",
   "execution_count": 1,
   "metadata": {},
   "outputs": [],
   "source": [
    "%run \"Imports.ipynb\"\n",
    "%run \"Helpers.ipynb\""
   ]
  },
  {
   "cell_type": "markdown",
   "metadata": {},
   "source": [
    "### Load data"
   ]
  },
  {
   "cell_type": "code",
   "execution_count": 2,
   "metadata": {},
   "outputs": [],
   "source": [
    "data = read_data_from_file(\"supply_per_zone_2.csv\")"
   ]
  },
  {
   "cell_type": "markdown",
   "metadata": {},
   "source": [
    "### Add Prophet forecast"
   ]
  },
  {
   "cell_type": "code",
   "execution_count": 3,
   "metadata": {},
   "outputs": [
    {
     "name": "stdout",
     "output_type": "stream",
     "text": [
      "0_0_10_10\n",
      "0_1_10_10\n",
      "0_2_10_10\n",
      "0_3_10_10\n",
      "0_4_10_10\n",
      "0_5_10_10\n",
      "0_6_10_10\n",
      "0_7_10_10\n",
      "0_8_10_10\n",
      "0_9_10_10\n",
      "1_0_10_10\n",
      "1_1_10_10\n",
      "1_2_10_10\n",
      "1_3_10_10\n",
      "1_4_10_10\n",
      "1_5_10_10\n",
      "1_6_10_10\n",
      "1_7_10_10\n",
      "1_8_10_10\n",
      "1_9_10_10\n",
      "2_0_10_10\n",
      "2_1_10_10\n",
      "2_2_10_10\n",
      "2_3_10_10\n",
      "2_4_10_10\n",
      "2_5_10_10\n",
      "2_6_10_10\n",
      "2_7_10_10\n",
      "2_8_10_10\n",
      "2_9_10_10\n",
      "3_0_10_10\n",
      "3_1_10_10\n",
      "3_2_10_10\n",
      "3_3_10_10\n",
      "3_4_10_10\n",
      "3_5_10_10\n",
      "3_6_10_10\n",
      "3_7_10_10\n",
      "3_8_10_10\n",
      "3_9_10_10\n",
      "4_0_10_10\n",
      "4_1_10_10\n",
      "4_2_10_10\n",
      "4_3_10_10\n",
      "4_4_10_10\n",
      "4_5_10_10\n",
      "4_6_10_10\n",
      "4_7_10_10\n",
      "4_8_10_10\n",
      "4_9_10_10\n",
      "5_0_10_10\n",
      "5_1_10_10\n",
      "5_2_10_10\n",
      "5_3_10_10\n",
      "5_4_10_10\n",
      "5_5_10_10\n",
      "5_6_10_10\n",
      "5_7_10_10\n",
      "5_8_10_10\n",
      "5_9_10_10\n",
      "6_0_10_10\n",
      "6_1_10_10\n",
      "6_2_10_10\n",
      "6_3_10_10\n",
      "6_4_10_10\n",
      "6_5_10_10\n",
      "6_6_10_10\n",
      "6_7_10_10\n",
      "6_8_10_10\n",
      "6_9_10_10\n",
      "7_0_10_10\n",
      "7_1_10_10\n",
      "7_2_10_10\n",
      "7_3_10_10\n",
      "7_4_10_10\n",
      "7_5_10_10\n",
      "7_6_10_10\n",
      "7_7_10_10\n",
      "7_8_10_10\n",
      "7_9_10_10\n",
      "8_0_10_10\n",
      "8_1_10_10\n",
      "8_2_10_10\n",
      "8_3_10_10\n",
      "8_4_10_10\n",
      "8_5_10_10\n",
      "8_6_10_10\n",
      "8_7_10_10\n",
      "8_8_10_10\n",
      "8_9_10_10\n",
      "9_0_10_10\n",
      "9_1_10_10\n",
      "9_2_10_10\n",
      "9_3_10_10\n",
      "9_4_10_10\n",
      "9_5_10_10\n",
      "9_6_10_10\n",
      "9_7_10_10\n",
      "9_8_10_10\n",
      "9_9_10_10\n"
     ]
    }
   ],
   "source": [
    "data = add_prophet_forecast(data,'2019-12-31 00:00:00')"
   ]
  },
  {
   "cell_type": "markdown",
   "metadata": {},
   "source": [
    "### Add mean supply per zone to the dataset"
   ]
  },
  {
   "cell_type": "code",
   "execution_count": 5,
   "metadata": {},
   "outputs": [],
   "source": [
    "data = add_mean_supply(data,'2019-12-31 00:00:00')"
   ]
  },
  {
   "cell_type": "markdown",
   "metadata": {},
   "source": [
    "### Calculate success metric for Prophet forecast"
   ]
  },
  {
   "cell_type": "code",
   "execution_count": 6,
   "metadata": {},
   "outputs": [
    {
     "data": {
      "text/plain": [
       "2.0742013817694"
      ]
     },
     "execution_count": 6,
     "metadata": {},
     "output_type": "execute_result"
    }
   ],
   "source": [
    "success_metric = calculate_prophet_success_metric(data, '2019-12-31 00:00:00')\n",
    "success_metric"
   ]
  },
  {
   "cell_type": "markdown",
   "metadata": {},
   "source": [
    "### Calculate naive succes metric for a comparison"
   ]
  },
  {
   "cell_type": "code",
   "execution_count": 7,
   "metadata": {},
   "outputs": [
    {
     "data": {
      "text/plain": [
       "3.0132086220057666"
      ]
     },
     "execution_count": 7,
     "metadata": {},
     "output_type": "execute_result"
    }
   ],
   "source": [
    "naive_success_metric = calculate_naive_success_metric(data, '2019-12-31 00:00:00')\n",
    "naive_success_metric"
   ]
  }
 ],
 "metadata": {
  "kernelspec": {
   "display_name": "Python 3",
   "language": "python",
   "name": "python3"
  },
  "language_info": {
   "codemirror_mode": {
    "name": "ipython",
    "version": 3
   },
   "file_extension": ".py",
   "mimetype": "text/x-python",
   "name": "python",
   "nbconvert_exporter": "python",
   "pygments_lexer": "ipython3",
   "version": "3.7.3"
  }
 },
 "nbformat": 4,
 "nbformat_minor": 2
}
